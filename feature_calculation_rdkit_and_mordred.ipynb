{
 "cells": [
  {
   "cell_type": "code",
   "execution_count": 1,
   "metadata": {},
   "outputs": [],
   "source": [
    "import pandas as pd\n",
    "import numpy as np\n",
    "import rdkit\n",
    "from rdkit import Chem\n",
    "from rdkit.Chem import AllChem, Descriptors, Descriptors3D,PandasTools,Draw\n",
    "from mordred import Calculator, descriptors\n"
   ]
  },
  {
   "cell_type": "code",
   "execution_count": 2,
   "metadata": {},
   "outputs": [
    {
     "data": {
      "text/html": [
       "<div>\n",
       "<style scoped>\n",
       "    .dataframe tbody tr th:only-of-type {\n",
       "        vertical-align: middle;\n",
       "    }\n",
       "\n",
       "    .dataframe tbody tr th {\n",
       "        vertical-align: top;\n",
       "    }\n",
       "\n",
       "    .dataframe thead th {\n",
       "        text-align: right;\n",
       "    }\n",
       "</style>\n",
       "<table border=\"1\" class=\"dataframe\">\n",
       "  <thead>\n",
       "    <tr style=\"text-align: right;\">\n",
       "      <th></th>\n",
       "      <th>阳离子smile</th>\n",
       "      <th>是否形成（Y能N否）</th>\n",
       "      <th>y_true</th>\n",
       "    </tr>\n",
       "  </thead>\n",
       "  <tbody>\n",
       "    <tr>\n",
       "      <th>0</th>\n",
       "      <td>CCCCCC([NH3+])C</td>\n",
       "      <td>Y</td>\n",
       "      <td>1</td>\n",
       "    </tr>\n",
       "    <tr>\n",
       "      <th>1</th>\n",
       "      <td>[NH3+]CCSSCC[NH3+]</td>\n",
       "      <td>Y</td>\n",
       "      <td>1</td>\n",
       "    </tr>\n",
       "    <tr>\n",
       "      <th>2</th>\n",
       "      <td>BrC1=CC=CC=C1CC[NH3+]</td>\n",
       "      <td>Y</td>\n",
       "      <td>1</td>\n",
       "    </tr>\n",
       "    <tr>\n",
       "      <th>3</th>\n",
       "      <td>ClC1=CC=CC=C1CC[NH3+]</td>\n",
       "      <td>Y</td>\n",
       "      <td>1</td>\n",
       "    </tr>\n",
       "    <tr>\n",
       "      <th>4</th>\n",
       "      <td>[NH3+]CCOCC[NH3+]</td>\n",
       "      <td>Y</td>\n",
       "      <td>1</td>\n",
       "    </tr>\n",
       "    <tr>\n",
       "      <th>...</th>\n",
       "      <td>...</td>\n",
       "      <td>...</td>\n",
       "      <td>...</td>\n",
       "    </tr>\n",
       "    <tr>\n",
       "      <th>100</th>\n",
       "      <td>Cc1ccc([NH3+])cc1F</td>\n",
       "      <td>N</td>\n",
       "      <td>0</td>\n",
       "    </tr>\n",
       "    <tr>\n",
       "      <th>101</th>\n",
       "      <td>[NH3+]c1ccc(C(F)(F)F)cc1</td>\n",
       "      <td>N</td>\n",
       "      <td>0</td>\n",
       "    </tr>\n",
       "    <tr>\n",
       "      <th>102</th>\n",
       "      <td>[NH3+]c1cc(C(F)(F)F)cc(C(F)(F)F)c1</td>\n",
       "      <td>N</td>\n",
       "      <td>0</td>\n",
       "    </tr>\n",
       "    <tr>\n",
       "      <th>103</th>\n",
       "      <td>C[NH2+]c1ccccc1F</td>\n",
       "      <td>N</td>\n",
       "      <td>0</td>\n",
       "    </tr>\n",
       "    <tr>\n",
       "      <th>104</th>\n",
       "      <td>C[NH+](C)c1ccc(F)cc1</td>\n",
       "      <td>N</td>\n",
       "      <td>0</td>\n",
       "    </tr>\n",
       "  </tbody>\n",
       "</table>\n",
       "<p>105 rows × 3 columns</p>\n",
       "</div>"
      ],
      "text/plain": [
       "                               阳离子smile 是否形成（Y能N否）  y_true\n",
       "0                       CCCCCC([NH3+])C          Y       1\n",
       "1                    [NH3+]CCSSCC[NH3+]          Y       1\n",
       "2                 BrC1=CC=CC=C1CC[NH3+]          Y       1\n",
       "3                 ClC1=CC=CC=C1CC[NH3+]          Y       1\n",
       "4                     [NH3+]CCOCC[NH3+]          Y       1\n",
       "..                                  ...        ...     ...\n",
       "100                  Cc1ccc([NH3+])cc1F          N       0\n",
       "101            [NH3+]c1ccc(C(F)(F)F)cc1          N       0\n",
       "102  [NH3+]c1cc(C(F)(F)F)cc(C(F)(F)F)c1          N       0\n",
       "103                    C[NH2+]c1ccccc1F          N       0\n",
       "104                C[NH+](C)c1ccc(F)cc1          N       0\n",
       "\n",
       "[105 rows x 3 columns]"
      ]
     },
     "execution_count": 2,
     "metadata": {},
     "output_type": "execute_result"
    }
   ],
   "source": [
    "data =pd.read_excel('数据集汇总.xlsx', sheet_name='Sheet1')\n",
    "data"
   ]
  },
  {
   "cell_type": "code",
   "execution_count": 4,
   "metadata": {},
   "outputs": [],
   "source": [
    "PandasTools.AddMoleculeColumnToFrame(data,smilesCol='阳离子smile') #将smile码转换为RDkit分子"
   ]
  },
  {
   "cell_type": "code",
   "execution_count": 5,
   "metadata": {},
   "outputs": [
    {
     "name": "stdout",
     "output_type": "stream",
     "text": [
      "(105, 212)\n"
     ]
    },
    {
     "name": "stderr",
     "output_type": "stream",
     "text": [
      "d:\\software\\anaconda3\\envs\\rdkit\\lib\\site-packages\\ipykernel_launcher.py:2: PerformanceWarning: DataFrame is highly fragmented.  This is usually the result of calling `frame.insert` many times, which has poor performance.  Consider joining all columns at once using pd.concat(axis=1) instead.  To get a de-fragmented frame, use `newframe = frame.copy()`\n",
      "  \n"
     ]
    }
   ],
   "source": [
    "for i,j in Descriptors.descList: #这句没问题，Descriptors.descList确实是[(i,j) for i,j in Descriptors.descList if j.fingerprints] 第一项是描述符名称，第二项是描述符函数\n",
    "    data[i] = data.ROMol.map(j) #i是描述符名称，j是描述符函数，data.ROMol.map(j)是成列计算描述符值\n",
    "print(data.shape) #主意，描述符是针对质子化后的阳离子，而不是中性胺"
   ]
  },
  {
   "cell_type": "code",
   "execution_count": 6,
   "metadata": {},
   "outputs": [],
   "source": [
    "data.to_excel('whether2D_Rdkit.xlsx')"
   ]
  },
  {
   "cell_type": "code",
   "execution_count": 7,
   "metadata": {},
   "outputs": [],
   "source": [
    "calc = Calculator(descriptors,ignore_3D=False) #ignore_3D=False表示不计算3D描述符\n",
    "df = pd.read_excel('数据集汇总.xlsx', sheet_name='Sheet1')\n",
    "mols = [Chem.MolFromSmiles(smi) for smi in df['阳离子smile']]\n",
    "for i in range(len(mols)): \n",
    "    mols[i] = AllChem.AddHs(mols[i]) #计算2D描述符需要先加氢\n",
    "    AllChem.EmbedMolecule(mols[i])\n",
    "    AllChem.MMFFOptimizeMolecule(mols[i]) #用MMFF94方法优化分子\n",
    "df = calc.pandas(mols) #计算Mordred描述符\n",
    "df.to_excel('whether2D_mordred.xlsx')"
   ]
  },
  {
   "cell_type": "code",
   "execution_count": 13,
   "metadata": {},
   "outputs": [],
   "source": [
    "#计算RDKit的3D描述符\n",
    "\n",
    "data_3D = pd.read_excel('数据集汇总.xlsx', sheet_name='Sheet1')\n",
    "mols = [Chem.MolFromSmiles(smi) for smi in data_3D['阳离子smile']]\n",
    "for i in range(len(mols)): \n",
    "    mols[i] = AllChem.AddHs(mols[i]) #计算2D描述符需要先加氢\n",
    "    AllChem.EmbedMolecule(mols[i])\n",
    "    AllChem.MMFFOptimizeMolecule(mols[i]) #用MMFF94方法优化分子\n",
    "\n",
    "Aspheri = []\n",
    "Eccentri = []\n",
    "Inertial = []\n",
    "RadiusO = []\n",
    "Spher = []\n",
    "for i in range(len(data_3D)):\n",
    "    j1 = Descriptors3D.Asphericity(mols[i])\n",
    "    Aspheri.append(j1)\n",
    "    j2 = Descriptors3D.Eccentricity(mols[i])\n",
    "    Eccentri.append(j2)\n",
    "    j3 = Descriptors3D.InertialShapeFactor(mols[i])\n",
    "    Inertial.append(j3)\n",
    "    j4 = Descriptors3D.RadiusOfGyration(mols[i])\n",
    "    RadiusO.append(j4)\n",
    "    j5 = Descriptors3D.SpherocityIndex(mols[i])\n",
    "    Spher.append(j5)\n",
    "data_3D['Asphericity'] = Aspheri\n",
    "data_3D['Eccentricity'] = Eccentri\n",
    "data_3D['InertialShapeFactor'] = Inertial\n",
    "data_3D['RadiusOfGyration'] = RadiusO\n",
    "data_3D['SpherocityIndex'] = Spher\n",
    "    \n",
    "data_3D.to_excel('whether2D_Rdkit_3Ddescriptor.xlsx')\n",
    "\n"
   ]
  },
  {
   "cell_type": "code",
   "execution_count": 14,
   "metadata": {},
   "outputs": [],
   "source": [
    "calc = Calculator(descriptors,ignore_3D=False) #计算3D描述符\n",
    "df = pd.read_excel('数据集汇总.xlsx', sheet_name='Sheet1')\n",
    "mols = [Chem.MolFromSmiles(smi) for smi in df['阳离子smile']]\n",
    "for i in range(len(mols)): \n",
    "    mols[i] = AllChem.AddHs(mols[i]) #计算2D描述符需要先加氢\n",
    "    AllChem.EmbedMolecule(mols[i])\n",
    "    AllChem.MMFFOptimizeMolecule(mols[i]) #用MMFF94方法优化分子\n",
    "df = calc.pandas(mols) #计算Mordred的所有描述符\n",
    "df.to_excel('whether2D_mordred_include3Ddescriptor.xlsx')"
   ]
  },
  {
   "cell_type": "code",
   "execution_count": 17,
   "metadata": {},
   "outputs": [
    {
     "data": {
      "text/plain": [
       "(105, 1826)"
      ]
     },
     "execution_count": 17,
     "metadata": {},
     "output_type": "execute_result"
    }
   ],
   "source": [
    "df.shape"
   ]
  },
  {
   "cell_type": "code",
   "execution_count": null,
   "metadata": {},
   "outputs": [],
   "source": []
  }
 ],
 "metadata": {
  "kernelspec": {
   "display_name": "rdkit",
   "language": "python",
   "name": "python3"
  },
  "language_info": {
   "codemirror_mode": {
    "name": "ipython",
    "version": 3
   },
   "file_extension": ".py",
   "mimetype": "text/x-python",
   "name": "python",
   "nbconvert_exporter": "python",
   "pygments_lexer": "ipython3",
   "version": "3.7.1"
  }
 },
 "nbformat": 4,
 "nbformat_minor": 2
}
